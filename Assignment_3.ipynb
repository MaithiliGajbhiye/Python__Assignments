{
 "cells": [
  {
   "cell_type": "code",
   "execution_count": 10,
   "id": "725041a8-866a-49de-b30f-20b18eeb1f89",
   "metadata": {},
   "outputs": [
    {
     "name": "stdout",
     "output_type": "stream",
     "text": [
      "3\n"
     ]
    }
   ],
   "source": [
    "# Question 1\n",
    "# Create a variable x with the value 15 . \n",
    "# Perform floored division by 4 and print the result.\n",
    "# What is the difference between floored division and normal division?\n",
    "\n",
    "x = 15\n",
    "floored_division = x//4\n",
    "print(floored_division)\n",
    "\n",
    "# Here, 15 divided by 4 equals 3.75, but the floored division rounds it down to 3.\n",
    "# Difference between floored division and normal division:\n",
    "# Normal division (/): This operator returns the exact quotient as a floating-point number. \n",
    "#                     For example, 15 / 4 will give 3.75.\n",
    "\n",
    "# Floored division (//): This operator returns the largest integer that is less than or equal to the quotient.\n",
    "#                       For example, 15 // 4 will give 3."
   ]
  },
  {
   "cell_type": "code",
   "execution_count": 12,
   "id": "0af5b539-bc18-4605-ab69-945513dd9261",
   "metadata": {},
   "outputs": [
    {
     "name": "stdout",
     "output_type": "stream",
     "text": [
      "64\n",
      "4.0\n"
     ]
    }
   ],
   "source": [
    "# Question 2\n",
    "# Write a program to calculate 8 ** 2 and 16 ** 0.5 . \n",
    "# Print both results and describe what each represents.\n",
    "\n",
    "X = 8 ** 2\n",
    "Y = 16 ** 0.5\n",
    "\n",
    "print(X)\n",
    "print(Y)\n"
   ]
  },
  {
   "cell_type": "code",
   "execution_count": 1,
   "id": "79878d5e-a826-4548-8c6f-d526b0c4c5f8",
   "metadata": {},
   "outputs": [
    {
     "name": "stdout",
     "output_type": "stream",
     "text": [
      "6.25\n"
     ]
    }
   ],
   "source": [
    "# Question 3\n",
    "# Use arithmetic operators to solve the following expression: 20 - 5 * 3 + 8 /4 .\n",
    "# Use parentheses to make sure the addition happens before multiplication. Print the output.\n",
    "\n",
    "expression = 20 - 5 * (3 + 8) / 4\n",
    "\n",
    "print(expression)"
   ]
  },
  {
   "cell_type": "code",
   "execution_count": 17,
   "id": "5b497653-16db-49ee-b48c-31d45930ad9c",
   "metadata": {},
   "outputs": [
    {
     "name": "stdout",
     "output_type": "stream",
     "text": [
      "The integer value is: 7\n",
      "The float value is: 7.0\n"
     ]
    }
   ],
   "source": [
    "# Question 4\n",
    "# Assign the value 7 to a variable num . \n",
    "# Convert it to a float and print the result. \n",
    "# What is the difference between 7 and 7.0 ?\n",
    "\n",
    "num = 7\n",
    "\n",
    "num_float = float(num)\n",
    "\n",
    "print(\"The integer value is:\", num)\n",
    "print(\"The float value is:\", num_float)\n",
    "\n",
    "# difference\n",
    "# 7: This is an integer. Integers are whole numbers without a decimal point.\n",
    "# 7.0: This is a floating-point number (or float). \n",
    "# Floats can represent numbers with fractional parts and are written with a decimal point, even if the fractional part is zero."
   ]
  },
  {
   "cell_type": "code",
   "execution_count": 19,
   "id": "24eb5d18-ab3e-4a81-9fde-867390809da0",
   "metadata": {},
   "outputs": [
    {
     "name": "stdout",
     "output_type": "stream",
     "text": [
      "True\n"
     ]
    },
    {
     "data": {
      "text/plain": [
       "bool"
      ]
     },
     "execution_count": 19,
     "metadata": {},
     "output_type": "execute_result"
    }
   ],
   "source": [
    "# Question 5\n",
    "# Use a comparison operator to check if 100 is greater than 50 .\n",
    "# Print the result and indicate what type of value this is.\n",
    "\n",
    "result = 100 > 50\n",
    "\n",
    "print(result)\n",
    "\n",
    "type(result)\n",
    "\n",
    "# The result is a boolean value, which can either be True or False. In Python, the type of a boolean value is bool."
   ]
  },
  {
   "cell_type": "code",
   "execution_count": 21,
   "id": "9c2b61e6-b011-4464-b50b-d0e7d559308a",
   "metadata": {},
   "outputs": [
    {
     "name": "stdout",
     "output_type": "stream",
     "text": [
      "False\n"
     ]
    }
   ],
   "source": [
    "# Question 6\n",
    "# Assign True to a variable is_sunny and False to is_weekend .\n",
    "# Use logical operators to check if it is sunny and the weekend ( is_sunny and is_weekend ).\n",
    "# Print the result.\n",
    "\n",
    "is_sunny = True\n",
    "is_weekend = False\n",
    "\n",
    "result = is_sunny and is_weekend\n",
    "\n",
    "print(result)\n"
   ]
  },
  {
   "cell_type": "code",
   "execution_count": 23,
   "id": "e93ccdd2-37b6-481a-8a6e-1a1c61b8d9e7",
   "metadata": {},
   "outputs": [
    {
     "name": "stdin",
     "output_type": "stream",
     "text": [
      "Enter the password:  my_password123\n"
     ]
    },
    {
     "name": "stdout",
     "output_type": "stream",
     "text": [
      "True\n"
     ]
    }
   ],
   "source": [
    "# Question 7\n",
    "# Create a variable password and set it to \"my_password123\" .\n",
    "# Ask the user to input a password and print True if the input matches the value of password ,\n",
    "# otherwise print False .\n",
    "\n",
    "password = \"my_password123\"\n",
    "\n",
    "user = input(\"Enter the password: \")\n",
    "\n",
    "if user == password:\n",
    "    print(True)\n",
    "else:\n",
    "    print(False)"
   ]
  },
  {
   "cell_type": "code",
   "execution_count": 25,
   "id": "5fb3fffd-b4e5-497c-8ccd-3fb323277f22",
   "metadata": {},
   "outputs": [
    {
     "name": "stdout",
     "output_type": "stream",
     "text": [
      "55\n"
     ]
    }
   ],
   "source": [
    "# Question 8\n",
    "# Assign the value 50 to a variable marks . \n",
    "# Increment the value of marks by 5using the += operator, then print the new value.\n",
    "\n",
    "marks = 50\n",
    "\n",
    "marks += 5\n",
    "\n",
    "print(marks)\n"
   ]
  },
  {
   "cell_type": "code",
   "execution_count": 27,
   "id": "7debbe40-2f31-4947-b9de-c3aa10c0dd6e",
   "metadata": {},
   "outputs": [
    {
     "name": "stdout",
     "output_type": "stream",
     "text": [
      "10\n"
     ]
    }
   ],
   "source": [
    "# Question 9\n",
    "# Write a program to check if the value of a = 0 and b = 10 satisfies a or b .\n",
    "# Print the output and explain why it gives that result.\n",
    "\n",
    "a = 0\n",
    "b = 10\n",
    "\n",
    "result = a or b\n",
    "\n",
    "print(result)\n",
    "\n",
    "# The or operator returns the first truthy value it encounters, or the last value if neither is truthy."
   ]
  },
  {
   "cell_type": "code",
   "execution_count": 30,
   "id": "4f5c056d-f5fe-44d5-92a1-5c026a15ccec",
   "metadata": {},
   "outputs": [
    {
     "name": "stdout",
     "output_type": "stream",
     "text": [
      "True\n"
     ]
    }
   ],
   "source": [
    "# Question 10\n",
    "# Use not to negate the value of False and print the result. \n",
    "# Explain what the not operator does in Python.\n",
    "\n",
    "result = not False\n",
    "\n",
    "print(result)\n",
    "\n",
    "# not simply reverses the boolean value of an expression."
   ]
  },
  {
   "cell_type": "code",
   "execution_count": null,
   "id": "2c931ea5-6e09-49fa-9fb6-f3f0aea66e14",
   "metadata": {},
   "outputs": [],
   "source": []
  }
 ],
 "metadata": {
  "kernelspec": {
   "display_name": "Python 3 (ipykernel)",
   "language": "python",
   "name": "python3"
  },
  "language_info": {
   "codemirror_mode": {
    "name": "ipython",
    "version": 3
   },
   "file_extension": ".py",
   "mimetype": "text/x-python",
   "name": "python",
   "nbconvert_exporter": "python",
   "pygments_lexer": "ipython3",
   "version": "3.10.3"
  }
 },
 "nbformat": 4,
 "nbformat_minor": 5
}
