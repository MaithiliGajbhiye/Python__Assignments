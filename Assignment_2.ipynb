{
 "cells": [
  {
   "cell_type": "code",
   "execution_count": 1,
   "id": "657045ec-e287-4001-9efb-d087f3548b63",
   "metadata": {},
   "outputs": [],
   "source": [
    "# Question 1\n",
    "# Create a variable age and assign it the value 25 . Then print the value of age along with its data type using the type() function.\n",
    "\n",
    "age = 25"
   ]
  },
  {
   "cell_type": "code",
   "execution_count": 4,
   "id": "0fc6dd30-eb4d-48c2-bb7d-d566e9850f26",
   "metadata": {},
   "outputs": [
    {
     "name": "stdout",
     "output_type": "stream",
     "text": [
      "25\n"
     ]
    }
   ],
   "source": [
    "print(age)"
   ]
  },
  {
   "cell_type": "code",
   "execution_count": 5,
   "id": "ce28cb2a-802f-4eec-ac84-9f229de8cada",
   "metadata": {},
   "outputs": [
    {
     "data": {
      "text/plain": [
       "int"
      ]
     },
     "execution_count": 5,
     "metadata": {},
     "output_type": "execute_result"
    }
   ],
   "source": [
    "type(age)"
   ]
  },
  {
   "cell_type": "code",
   "execution_count": 8,
   "id": "f55bcc11-0398-4738-8f5f-bf32d27ceefb",
   "metadata": {},
   "outputs": [
    {
     "name": "stdout",
     "output_type": "stream",
     "text": [
      "12.5\n"
     ]
    },
    {
     "data": {
      "text/plain": [
       "float"
      ]
     },
     "execution_count": 8,
     "metadata": {},
     "output_type": "execute_result"
    }
   ],
   "source": [
    "# Question 2\n",
    "# Assign the number 12.5 to a variable price . Print both the variable and its data type.\n",
    "# Then assign the value 12 to the same variable and print its data type again. What do you observe?\n",
    "\n",
    "Price = 12.5\n",
    "print(Price)\n",
    "type(Price)"
   ]
  },
  {
   "cell_type": "code",
   "execution_count": 1,
   "id": "7cbde1c9-cd8f-42f7-86ee-9aeb20cfbf64",
   "metadata": {},
   "outputs": [
    {
     "name": "stdout",
     "output_type": "stream",
     "text": [
      "12\n"
     ]
    },
    {
     "data": {
      "text/plain": [
       "int"
      ]
     },
     "execution_count": 1,
     "metadata": {},
     "output_type": "execute_result"
    }
   ],
   "source": [
    "Price = 12\n",
    "print(Price)\n",
    "type(Price)\n",
    "\n",
    "# This means the data type of a variable can change based on the value assigned to it."
   ]
  },
  {
   "cell_type": "code",
   "execution_count": 32,
   "id": "5c399acd-7354-47b1-aca7-59d5a31716aa",
   "metadata": {},
   "outputs": [
    {
     "name": "stdout",
     "output_type": "stream",
     "text": [
      "True\n"
     ]
    },
    {
     "data": {
      "text/plain": [
       "bool"
      ]
     },
     "execution_count": 32,
     "metadata": {},
     "output_type": "execute_result"
    }
   ],
   "source": [
    "# Question 3\n",
    "# Create a variable is_raining and set it to True . Print the value of the variable along with its type.\n",
    "# Then set is_raining to False and print the new value and type.\n",
    "\n",
    "is_raining = True\n",
    "print(is_raining)\n",
    "type(is_raining)"
   ]
  },
  {
   "cell_type": "code",
   "execution_count": 19,
   "id": "55d31ccf-cf7d-4c84-8b34-a45f1ad7b009",
   "metadata": {},
   "outputs": [
    {
     "name": "stdout",
     "output_type": "stream",
     "text": [
      "False\n"
     ]
    },
    {
     "data": {
      "text/plain": [
       "bool"
      ]
     },
     "execution_count": 19,
     "metadata": {},
     "output_type": "execute_result"
    }
   ],
   "source": [
    "is_raining = False\n",
    "print(is_raining)\n",
    "type(is_raining)"
   ]
  },
  {
   "cell_type": "code",
   "execution_count": 25,
   "id": "352528c6-5aaa-406d-bae6-2d0f9a4755dd",
   "metadata": {},
   "outputs": [],
   "source": [
    "# Question 4\n",
    "# Create a variable my_name and store your full name in it as a string.\n",
    "# Then print the value of my_name using single quotes ' .\n",
    "\n",
    "my_name = \"Maithili Bhagwat Gajbhiye\""
   ]
  },
  {
   "cell_type": "code",
   "execution_count": 13,
   "id": "3f830072-b724-4d54-85e6-3ea12b80fe00",
   "metadata": {},
   "outputs": [
    {
     "data": {
      "text/plain": [
       "'Maithili Bhagwat Gajbhiye'"
      ]
     },
     "execution_count": 13,
     "metadata": {},
     "output_type": "execute_result"
    }
   ],
   "source": [
    "my_name"
   ]
  },
  {
   "cell_type": "code",
   "execution_count": 31,
   "id": "b9c72ecd-730a-496f-80dd-0e3ac9381c7f",
   "metadata": {},
   "outputs": [
    {
     "name": "stdin",
     "output_type": "stream",
     "text": [
      "Enter your Name Maithili\n",
      "Enter your Age 22\n"
     ]
    },
    {
     "name": "stdout",
     "output_type": "stream",
     "text": [
      "Hello Maithili ! You are 22 years old.\n"
     ]
    }
   ],
   "source": [
    "# Question 5\n",
    "# Write a Python program that asks the user for their name and age using the input() function.\n",
    "# Store the inputs in variables and print a sentence like \"Hello, [Name]! You are [Age] years old.\" \n",
    "# Ensure you cast the age to a integer.\n",
    "\n",
    "name = input(\"Enter your Name\")\n",
    "age = int(input(\"Enter your Age\"))\n",
    "print(\"Hello\", name,\"!\" ,\"You are\", age,\"years old.\")\n",
    "   "
   ]
  },
  {
   "cell_type": "code",
   "execution_count": 47,
   "id": "9f269549-18fc-4cec-b4d5-cf9a04ec7305",
   "metadata": {},
   "outputs": [],
   "source": [
    "# Question 6\n",
    "# Create two variables x and y and assign them the values 10 and 3.5 ,respectively. \n",
    "#Print their values and types. Then, create a new variable sum_xy and store the sum of x and y .Print the result and its type.\n",
    "\n",
    "x = 10\n",
    "y = 3.5"
   ]
  },
  {
   "cell_type": "code",
   "execution_count": 40,
   "id": "4871102a-6c58-43d1-9ff5-d23304504077",
   "metadata": {},
   "outputs": [
    {
     "data": {
      "text/plain": [
       "10"
      ]
     },
     "execution_count": 40,
     "metadata": {},
     "output_type": "execute_result"
    }
   ],
   "source": [
    "x"
   ]
  },
  {
   "cell_type": "code",
   "execution_count": 36,
   "id": "511a7b55-9f72-4465-889f-426ba01cea70",
   "metadata": {},
   "outputs": [
    {
     "data": {
      "text/plain": [
       "3.5"
      ]
     },
     "execution_count": 36,
     "metadata": {},
     "output_type": "execute_result"
    }
   ],
   "source": [
    "y"
   ]
  },
  {
   "cell_type": "code",
   "execution_count": 41,
   "id": "71d6a6fe-97a9-49ec-8e3a-e1026abca924",
   "metadata": {},
   "outputs": [
    {
     "data": {
      "text/plain": [
       "int"
      ]
     },
     "execution_count": 41,
     "metadata": {},
     "output_type": "execute_result"
    }
   ],
   "source": [
    "type(x)"
   ]
  },
  {
   "cell_type": "code",
   "execution_count": 42,
   "id": "d59ea049-3a8e-42f8-971f-46eeb8d0a0cd",
   "metadata": {},
   "outputs": [
    {
     "data": {
      "text/plain": [
       "float"
      ]
     },
     "execution_count": 42,
     "metadata": {},
     "output_type": "execute_result"
    }
   ],
   "source": [
    "type(y)"
   ]
  },
  {
   "cell_type": "code",
   "execution_count": 43,
   "id": "5f566f6f-c634-4ebd-94df-54606d9b229c",
   "metadata": {},
   "outputs": [],
   "source": [
    "sum_xy = x+y"
   ]
  },
  {
   "cell_type": "code",
   "execution_count": 44,
   "id": "629a60fe-c27b-4b9a-bce1-36c4fe8a0ba4",
   "metadata": {},
   "outputs": [
    {
     "name": "stdout",
     "output_type": "stream",
     "text": [
      "13.5\n"
     ]
    }
   ],
   "source": [
    "print(sum_xy)"
   ]
  },
  {
   "cell_type": "code",
   "execution_count": 45,
   "id": "4bbbefb0-3f04-476a-b3e8-3fd2178d6c78",
   "metadata": {},
   "outputs": [
    {
     "data": {
      "text/plain": [
       "float"
      ]
     },
     "execution_count": 45,
     "metadata": {},
     "output_type": "execute_result"
    }
   ],
   "source": [
    "type(sum_xy)"
   ]
  },
  {
   "cell_type": "code",
   "execution_count": 54,
   "id": "8f566c3a-0549-4765-bff7-0a11c3d78891",
   "metadata": {},
   "outputs": [
    {
     "data": {
      "text/plain": [
       "float"
      ]
     },
     "execution_count": 54,
     "metadata": {},
     "output_type": "execute_result"
    }
   ],
   "source": [
    "# Question 7\n",
    "# Using the type() function, check and print the data type of the following:\n",
    "# 45.0\n",
    "# \"hello\"\n",
    "# None\n",
    "# False\n",
    "\n",
    "type(45.0)"
   ]
  },
  {
   "cell_type": "code",
   "execution_count": 51,
   "id": "0ce520e2-63ac-4b62-b751-ab83daf22275",
   "metadata": {},
   "outputs": [
    {
     "data": {
      "text/plain": [
       "str"
      ]
     },
     "execution_count": 51,
     "metadata": {},
     "output_type": "execute_result"
    }
   ],
   "source": [
    "type(\"hello\")"
   ]
  },
  {
   "cell_type": "code",
   "execution_count": 52,
   "id": "27e526ed-2efb-4944-a17d-fde724843474",
   "metadata": {},
   "outputs": [
    {
     "data": {
      "text/plain": [
       "NoneType"
      ]
     },
     "execution_count": 52,
     "metadata": {},
     "output_type": "execute_result"
    }
   ],
   "source": [
    "type(None)"
   ]
  },
  {
   "cell_type": "code",
   "execution_count": 53,
   "id": "055f8ef4-49cc-4b5c-95b8-4167c55570d7",
   "metadata": {},
   "outputs": [
    {
     "data": {
      "text/plain": [
       "bool"
      ]
     },
     "execution_count": 53,
     "metadata": {},
     "output_type": "execute_result"
    }
   ],
   "source": [
    "type(False)"
   ]
  },
  {
   "cell_type": "code",
   "execution_count": 61,
   "id": "3b12987a-7f87-44a0-b266-ef3fe8e84a9d",
   "metadata": {},
   "outputs": [
    {
     "name": "stdout",
     "output_type": "stream",
     "text": [
      "apple banana cherry\n",
      "apple,banana,cherry\n"
     ]
    }
   ],
   "source": [
    "# Question 8\n",
    "# Write a Python program to print three strings \"apple\" , \"banana\" , and \"cherry\" on the same line, eparated by a space.\n",
    "# Then modify the program to separate the strings using a comma , instead of a space.\n",
    "\n",
    "print(\"apple\" , \"banana\" ,\"cherry\",sep=\" \")\n",
    "\n",
    "print(\"apple\" , \"banana\" ,\"cherry\",sep=\",\")"
   ]
  },
  {
   "cell_type": "code",
   "execution_count": 5,
   "id": "083517fd-c2db-4e5f-b6af-c854f2ed3ad1",
   "metadata": {},
   "outputs": [],
   "source": [
    "# Question 9\n",
    "# Create a variable big_number and assign it a very large integer value (e.g., 987654321987654321 ). \n",
    "# Print the value and its type. What do you notice about the size of the number?\n",
    "\n",
    "big_number = 987654321987654321"
   ]
  },
  {
   "cell_type": "code",
   "execution_count": 6,
   "id": "97d1ca1b-5625-4312-9bb0-28e663ef6f55",
   "metadata": {},
   "outputs": [
    {
     "data": {
      "text/plain": [
       "987654321987654321"
      ]
     },
     "execution_count": 6,
     "metadata": {},
     "output_type": "execute_result"
    }
   ],
   "source": [
    "big_number"
   ]
  },
  {
   "cell_type": "code",
   "execution_count": 8,
   "id": "ec49327d-84dd-4a67-b748-69054062218c",
   "metadata": {},
   "outputs": [
    {
     "data": {
      "text/plain": [
       "int"
      ]
     },
     "execution_count": 8,
     "metadata": {},
     "output_type": "execute_result"
    }
   ],
   "source": [
    "type(big_number)\n",
    "# Python's int type can handle arbitrarily large integers"
   ]
  },
  {
   "cell_type": "code",
   "execution_count": 67,
   "id": "0efc5498-c80f-4bdd-b659-af84d9eaeb54",
   "metadata": {},
   "outputs": [
    {
     "name": "stdout",
     "output_type": "stream",
     "text": [
      "9.25\n"
     ]
    }
   ],
   "source": [
    "# Question 10\n",
    "# Write a Python program that prints the result of multiplying two floats (e.g.,2.5 and 3.7 ). \n",
    "# Then check and print the data type of the result.\n",
    "\n",
    "x = 2.5\n",
    "y = 3.7\n",
    "mul = (x*y)\n",
    "print(mul)"
   ]
  },
  {
   "cell_type": "code",
   "execution_count": 69,
   "id": "51c22c45-3c59-4e0a-af97-453bea5f8dd2",
   "metadata": {},
   "outputs": [
    {
     "data": {
      "text/plain": [
       "float"
      ]
     },
     "execution_count": 69,
     "metadata": {},
     "output_type": "execute_result"
    }
   ],
   "source": [
    "type(mul)"
   ]
  },
  {
   "cell_type": "code",
   "execution_count": null,
   "id": "3977e444-e7e0-41ca-8264-be7b2dad7766",
   "metadata": {},
   "outputs": [],
   "source": []
  }
 ],
 "metadata": {
  "kernelspec": {
   "display_name": "Python 3 (ipykernel)",
   "language": "python",
   "name": "python3"
  },
  "language_info": {
   "codemirror_mode": {
    "name": "ipython",
    "version": 3
   },
   "file_extension": ".py",
   "mimetype": "text/x-python",
   "name": "python",
   "nbconvert_exporter": "python",
   "pygments_lexer": "ipython3",
   "version": "3.10.3"
  }
 },
 "nbformat": 4,
 "nbformat_minor": 5
}
