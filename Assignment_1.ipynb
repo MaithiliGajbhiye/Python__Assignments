{
 "cells": [
  {
   "cell_type": "code",
   "execution_count": 5,
   "id": "0b2013d7-d065-4e32-ae54-32cd40c53d5d",
   "metadata": {},
   "outputs": [
    {
     "name": "stdout",
     "output_type": "stream",
     "text": [
      "Maithili\n",
      "Cyan\n"
     ]
    }
   ],
   "source": [
    "# Question 1\n",
    "# Write a Python program to print your name and favourite colour on two separate lines.\n",
    "\n",
    "print(\"Maithili\")\n",
    "print(\"Cyan\")"
   ]
  },
  {
   "cell_type": "code",
   "execution_count": 4,
   "id": "5d9c98f5-6acc-42de-98fa-70dee35a1abb",
   "metadata": {},
   "outputs": [
    {
     "name": "stdout",
     "output_type": "stream",
     "text": [
      "Maithili \n",
      "Cyan\n"
     ]
    }
   ],
   "source": [
    "print(\"Maithili \\nCyan\")"
   ]
  },
  {
   "cell_type": "code",
   "execution_count": 6,
   "id": "af460b9a-a125-4f96-a989-fce0d7427514",
   "metadata": {},
   "outputs": [
    {
     "name": "stdout",
     "output_type": "stream",
     "text": [
      "15\n"
     ]
    }
   ],
   "source": [
    "# Question 2\n",
    "# Write a Python program that prints the result of adding 7 and 8.\n",
    "\n",
    "print(7+8)"
   ]
  },
  {
   "cell_type": "code",
   "execution_count": 8,
   "id": "e07b6124-a347-4762-b12f-bf26b0046f45",
   "metadata": {},
   "outputs": [
    {
     "name": "stdout",
     "output_type": "stream",
     "text": [
      "Python is fun! \n",
      "Let's learn together.\n"
     ]
    }
   ],
   "source": [
    "# Question 3\n",
    "# Use the print function to display the following text exactly as it is:\n",
    "\n",
    "#Python is fun!\n",
    "#Let's learn together.\n",
    "\n",
    "print(\"Python is fun! \\nLet's learn together.\")"
   ]
  },
  {
   "cell_type": "code",
   "execution_count": 9,
   "id": "f06228f7-bf6b-4a1f-82c9-ca86bf9be53a",
   "metadata": {},
   "outputs": [
    {
     "name": "stdout",
     "output_type": "stream",
     "text": [
      "54\n"
     ]
    }
   ],
   "source": [
    "# Question 4\n",
    "# Write a Python program to calculate and print the result of multiplying 6 by9.\n",
    "\n",
    "print(6*9)"
   ]
  },
  {
   "cell_type": "code",
   "execution_count": 10,
   "id": "8176b721-390d-44ef-861d-232f41c25a13",
   "metadata": {},
   "outputs": [
    {
     "name": "stdout",
     "output_type": "stream",
     "text": [
      "10 6\n"
     ]
    }
   ],
   "source": [
    "# Question 5\n",
    "# Write a Python program that prints the result of adding 5 + 5 an multiplying 2*3 in a single line of code.\n",
    "\n",
    "print(5+5,2*3)"
   ]
  },
  {
   "cell_type": "code",
   "execution_count": null,
   "id": "85398d1e-accc-405b-aba9-fcc4e734c2a7",
   "metadata": {},
   "outputs": [],
   "source": []
  }
 ],
 "metadata": {
  "kernelspec": {
   "display_name": "Python 3 (ipykernel)",
   "language": "python",
   "name": "python3"
  },
  "language_info": {
   "codemirror_mode": {
    "name": "ipython",
    "version": 3
   },
   "file_extension": ".py",
   "mimetype": "text/x-python",
   "name": "python",
   "nbconvert_exporter": "python",
   "pygments_lexer": "ipython3",
   "version": "3.10.3"
  }
 },
 "nbformat": 4,
 "nbformat_minor": 5
}
